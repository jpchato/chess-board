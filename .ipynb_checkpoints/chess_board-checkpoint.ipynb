{
 "cells": [
  {
   "cell_type": "code",
   "execution_count": 1,
   "metadata": {},
   "outputs": [],
   "source": [
    "import numpy as np"
   ]
  },
  {
   "cell_type": "code",
   "execution_count": 2,
   "metadata": {},
   "outputs": [],
   "source": [
    "import matplotlib.pyplot as plt"
   ]
  },
  {
   "cell_type": "markdown",
   "metadata": {},
   "source": [
    "# NumPy Arrays - Chess Board"
   ]
  },
  {
   "cell_type": "code",
   "execution_count": 3,
   "metadata": {},
   "outputs": [],
   "source": [
    "class LabChessBoard:\n",
    "    def __init__(self):\n",
    "        # 8 rows, 8 columns, 3 channels(colors)\n",
    "        self._grid = np.zeros((8,8,3))\n",
    "        white = (1,1,1)\n",
    "        self.red = (1,0,0)\n",
    "        self.blue = (0,0,1)\n",
    "        \n",
    "        self.blue_queen = None\n",
    "        self.red_queen = None\n",
    "        \n",
    "        for i in range(0,8,2):\n",
    "            self._grid[i + 0][::2] = white          \n",
    "            self._grid[i + 1][1::2] = white\n",
    "\n",
    "    \n",
    "    \n",
    "    def add_red(self, row, col):\n",
    "        self.red_queen = (row, col)\n",
    "        self._grid[row,col] = self.red \n",
    "        \n",
    "    def add_blue(self, row, col):\n",
    "        self.blue_queen = (row, col)\n",
    "        self._grid[row,col] = self.blue\n",
    "        \n",
    "    def is_diagonal(self, row, col):\n",
    "        dx = abs(self.blue_queen[0] - self.red_queen[0])\n",
    "        dy = abs(self.blue_queen[1] - self.red_queen[1])\n",
    "        return dx == dy\n",
    "    \n",
    "    def render(self):\n",
    "        plt.imshow(self._grid)\n",
    "\n",
    "    def is_under_attack(self):\n",
    "        \n",
    "        if self.red_queen[0] == self.blue_queen[0]:\n",
    "            print(\"Red is under attack by blue\")\n",
    "            return True\n",
    "        \n",
    "        elif self.red_queen[1] == self.blue_queen[1]:\n",
    "            print(\"Red is under attack by blue\")\n",
    "            return True\n",
    "        \n",
    "        elif abs(self.blue_queen[0] - self.red_queen[0]) == abs(self.blue_queen[1] - self.red_queen[1]): \n",
    "            print(\"Red is under attack by blue\")\n",
    "            return True\n",
    "        \n",
    "        else:\n",
    "            print(\"Red is NOT under attack by blue\")\n",
    "            return False\n",
    "    "
   ]
  },
  {
   "cell_type": "markdown",
   "metadata": {},
   "source": [
    "* queens on same diagonal should be “under attack”"
   ]
  },
  {
   "cell_type": "code",
   "execution_count": 4,
   "metadata": {},
   "outputs": [
    {
     "name": "stdout",
     "output_type": "stream",
     "text": [
      "Red is under attack by blue\n",
      "Red is under attack by blue\n"
     ]
    },
    {
     "data": {
      "image/png": "[encoded data removed]",
      "text/plain": [
       "<Figure size 432x288 with 1 Axes>"
      ]
     },
     "metadata": {
      "needs_background": "light"
     },
     "output_type": "display_data"
    }
   ],
   "source": [
    "def test_diagonal():\n",
    "    board = LabChessBoard()\n",
    "    board.add_red(6,6)\n",
    "    board.add_blue(5,5)\n",
    "    board.is_under_attack()\n",
    "    expected = True\n",
    "    assert board.is_under_attack() == expected\n",
    "    board.render()\n",
    "test_diagonal()\n"
   ]
  },
  {
   "cell_type": "markdown",
   "metadata": {
    "jupyter": {
     "outputs_hidden": true
    }
   },
   "source": [
    "* queens on same row should be under attack"
   ]
  },
  {
   "cell_type": "code",
   "execution_count": 10,
   "metadata": {},
   "outputs": [
    {
     "name": "stdout",
     "output_type": "stream",
     "text": [
      "Red is under attack by blue\n",
      "Red is under attack by blue\n"
     ]
    },
    {
     "data": {
      "image/png": "[encoded data removed]",
      "text/plain": [
       "<Figure size 432x288 with 1 Axes>"
      ]
     },
     "metadata": {
      "needs_background": "light"
     },
     "output_type": "display_data"
    }
   ],
   "source": [
    " def test_horizontal():   \n",
    "    board = LabChessBoard()\n",
    "    board.add_red(5,6)\n",
    "    board.add_blue(5,5)\n",
    "    board.is_under_attack()\n",
    "    expected = True\n",
    "    assert board.is_under_attack() == expected\n",
    "    board.render()\n",
    "test_horizontal()"
   ]
  },
  {
   "cell_type": "markdown",
   "metadata": {},
   "source": [
    "* queens on same column should be “under attack”"
   ]
  },
  {
   "cell_type": "code",
   "execution_count": 11,
   "metadata": {},
   "outputs": [
    {
     "name": "stdout",
     "output_type": "stream",
     "text": [
      "Red is under attack by blue\n",
      "Red is under attack by blue\n"
     ]
    },
    {
     "data": {
      "image/png": "[encoded data removed]",
      "text/plain": [
       "<Figure size 432x288 with 1 Axes>"
      ]
     },
     "metadata": {
      "needs_background": "light"
     },
     "output_type": "display_data"
    }
   ],
   "source": [
    "def test_vertical():\n",
    "    board = LabChessBoard()\n",
    "    board.add_red(4,6)\n",
    "    board.add_blue(5,6)\n",
    "    board.is_under_attack()\n",
    "    expected = True\n",
    "    assert board.is_under_attack() == expected\n",
    "    board.render()\n",
    "test_vertical()"
   ]
  },
  {
   "cell_type": "markdown",
   "metadata": {},
   "source": [
    "* queens with any other coordinates should NOT be “under attack”"
   ]
  },
  {
   "cell_type": "code",
   "execution_count": 13,
   "metadata": {},
   "outputs": [
    {
     "name": "stdout",
     "output_type": "stream",
     "text": [
      "Red is NOT under attack by blue\n",
      "Red is NOT under attack by blue\n"
     ]
    },
    {
     "data": {
      "image/png": "[encoded data removed]",
      "text/plain": [
       "<Figure size 432x288 with 1 Axes>"
      ]
     },
     "metadata": {
      "needs_background": "light"
     },
     "output_type": "display_data"
    }
   ],
   "source": [
    "def test_no_attack():\n",
    "    board = LabChessBoard()\n",
    "    board.add_red(1,6)\n",
    "    board.add_blue(5,7)\n",
    "    board.is_under_attack()\n",
    "    expected = False\n",
    "    assert board.is_under_attack() == expected\n",
    "    board.render()\n",
    "test_no_attack()"
   ]
  },
  {
   "cell_type": "markdown",
   "metadata": {},
   "source": [
    "# PLAYGROUND"
   ]
  },
  {
   "cell_type": "code",
   "execution_count": 8,
   "metadata": {},
   "outputs": [
    {
     "name": "stdout",
     "output_type": "stream",
     "text": [
      "Red is under attack by blue\n"
     ]
    },
    {
     "data": {
      "image/png": "[encoded data removed]",
      "text/plain": [
       "<Figure size 432x288 with 1 Axes>"
      ]
     },
     "metadata": {
      "needs_background": "light"
     },
     "output_type": "display_data"
    }
   ],
   "source": [
    "board = LabChessBoard()\n",
    "board.add_red(1,6)\n",
    "board.add_blue(2,7)\n",
    "board.is_under_attack()\n",
    "board.render()"
   ]
  }
 ],
 "metadata": {
  "kernelspec": {
   "display_name": "Python 3.8.2 64-bit ('.venv': venv)",
   "language": "python",
   "name": "python38264bitvenvvenvdaa982d6744345ac90ac183f0be59738"
  },
  "language_info": {
   "codemirror_mode": {
    "name": "ipython",
    "version": 3
   },
   "file_extension": ".py",
   "mimetype": "text/x-python",
   "name": "python",
   "nbconvert_exporter": "python",
   "pygments_lexer": "ipython3",
   "version": "3.8.2"
  }
 },
 "nbformat": 4,
 "nbformat_minor": 4
}
